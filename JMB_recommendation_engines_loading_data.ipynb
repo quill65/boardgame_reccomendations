{
 "cells": [
  {
   "cell_type": "markdown",
   "metadata": {},
   "source": [
    "## Board game recommendation engine \n",
    "\n",
    "#### John Burt\n",
    "\n",
    "\n",
    "#### purpose of this notebook:\n",
    "- demonstrate loading and fixing of data files\n"
   ]
  },
  {
   "cell_type": "markdown",
   "metadata": {},
   "source": [
    "## load data from csv file\n",
    "\n",
    "- Set up plot environment.\n",
    "- boardgame rating data from csv into pandas dataframe\n"
   ]
  },
  {
   "cell_type": "code",
   "execution_count": 16,
   "metadata": {},
   "outputs": [
    {
     "name": "stdout",
     "output_type": "stream",
     "text": [
      "   userID  gameID  rating\n",
      "0       1   66690     7.0\n",
      "1       1  148228     5.0\n",
      "2       1     325     6.0\n",
      "3       1    1927     4.0\n",
      "4       1  102794     8.0\n",
      "\n",
      "    gameID                    title\n",
      "0   13004  The Downfall of Pompeii\n",
      "1   66188                   Fresco\n",
      "2     503       Through the Desert\n",
      "3   66690     Dominion: Prosperity\n",
      "4     150                 PitchCar\n"
     ]
    }
   ],
   "source": [
    "# remove warnings\n",
    "import warnings\n",
    "warnings.filterwarnings('ignore')\n",
    "# ---\n",
    "\n",
    "%matplotlib inline\n",
    "import pandas as pd\n",
    "pd.options.display.max_columns = 100\n",
    "from matplotlib import pyplot as plt\n",
    "import matplotlib\n",
    "matplotlib.style.use('ggplot')\n",
    "import numpy as np\n",
    "\n",
    "from datetime import datetime\n",
    "\n",
    "pd.options.display.max_rows = 100\n",
    "\n",
    "# load the boardgame user data\n",
    "userdata = pd.read_csv('boardgame-users.csv')\n",
    "\n",
    "# rename the userID column\n",
    "userdata=userdata.rename(columns = {\"Compiled from boardgamegeek.com by Matt Borthwick\":'userID'})\n",
    "\n",
    "# load the boardgame title data\n",
    "titledata = pd.read_csv('boardgame-titles.csv')\n",
    "\n",
    "# rename the gameID column\n",
    "titledata=titledata.rename(columns = {\"boardgamegeek.com game ID\":'gameID'})\n",
    "\n",
    "print(userdata.head())\n",
    "print(\"\\n\", titledata.head())\n"
   ]
  }
 ],
 "metadata": {
  "kernelspec": {
   "display_name": "Python 3",
   "language": "python",
   "name": "python3"
  },
  "language_info": {
   "codemirror_mode": {
    "name": "ipython",
    "version": 3
   },
   "file_extension": ".py",
   "mimetype": "text/x-python",
   "name": "python",
   "nbconvert_exporter": "python",
   "pygments_lexer": "ipython3",
   "version": "3.5.4"
  }
 },
 "nbformat": 4,
 "nbformat_minor": 2
}
