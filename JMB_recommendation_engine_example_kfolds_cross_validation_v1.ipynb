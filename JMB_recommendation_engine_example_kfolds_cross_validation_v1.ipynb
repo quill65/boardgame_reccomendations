{
 "cells": [
  {
   "cell_type": "markdown",
   "metadata": {},
   "source": [
    "## Board game recommendation engine\n",
    "### example of KFolds cross-validation\n",
    "\n",
    "#### John Burt\n",
    "\n",
    "\n",
    "#### Purpose of this notebook:\n",
    "\n",
    "This is a simplified example of how to implement KFolds cross-validation of a user rating predictor, using the boardgamegeek dataset.\n",
    "\n",
    "In this case, the rating predictor is very simple: it just returns the mean rating of each game in the test set, regardless of user.  \n",
    "\n",
    "#### WARNING: If you use the all-users data set, there will be some users with only one rating. When KFolds randomly splits that rating data into training and test sets, it will likely put some of those one-rating users into the test set, so your rating estimation method must be able to generate ratings for users with no ratings in the training set!"
   ]
  },
  {
   "cell_type": "code",
   "execution_count": 65,
   "metadata": {
    "collapsed": true
   },
   "outputs": [],
   "source": [
    "# remove warnings\n",
    "import warnings\n",
    "warnings.filterwarnings('ignore')\n",
    "# ---\n",
    "\n",
    "%matplotlib inline\n",
    "import pandas as pd\n",
    "pd.options.display.max_columns = 100\n",
    "from matplotlib import pyplot as plt\n",
    "import matplotlib\n",
    "matplotlib.style.use('ggplot')\n",
    "import numpy as np\n",
    "\n",
    "from datetime import datetime\n",
    "\n",
    "pd.options.display.max_rows = 100\n",
    "\n",
    "# load the boardgame user data\n",
    "testdata = pd.read_csv('boardgame-users-test.csv') \n",
    "userdata = pd.read_csv('boardgame-users.csv') \n",
    "#userdata = pd.read_csv('boardgame-elite-users.csv')\n",
    "#userdata = pd.read_csv('boardgame-frequent-users.csv')\n",
    "\n",
    "# rename the userID column\n",
    "userdata=userdata.rename(columns = {\"Compiled from boardgamegeek.com by Matt Borthwick\":'userID'})\n",
    "\n",
    "# load the boardgame title data\n",
    "titledata = pd.read_csv('boardgame-titles.csv')\n",
    "\n",
    "# rename the gameID column\n",
    "titledata=titledata.rename(columns = {\"boardgamegeek.com game ID\":'gameID'})\n",
    "\n",
    "# for titledata set game ID as the index\n",
    "titledata = titledata.set_index(\"gameID\")"
   ]
  },
  {
   "cell_type": "code",
   "execution_count": 66,
   "metadata": {
    "collapsed": true
   },
   "outputs": [],
   "source": [
    "# Using KFolds provided row indices train_index and test_index, extract subsets from userdata. \n",
    "#\n",
    "# Pivot the training data to create rows of userID, with columns of gameID. \n",
    "# If a user rated a game, it will be at user x game and if not, then the cell will be NAN\n",
    "def get_kf_pivot_data(userdata, train_index, test_index):\n",
    "    train_p = userdata.iloc[train_index].pivot(index=\"userID\", columns=\"gameID\", values=\"rating\")\n",
    "    testdata = userdata.iloc[test_index]\n",
    "    return train_p, testdata    "
   ]
  },
  {
   "cell_type": "code",
   "execution_count": 67,
   "metadata": {
    "collapsed": true
   },
   "outputs": [],
   "source": [
    "# a simple rating predictor: \n",
    "#  for given test user + game, return mean rating for that game\n",
    "#\n",
    "# This func assumes:\n",
    "#  train_p is a pandas df w/ rows=userID, cols=gameID\n",
    "#  testdata is a pandas df w/ cols: userID, gameID\n",
    "def predict_ratings(train_p, testdata):\n",
    "    \n",
    "    # get mean ratings for all games\n",
    "    gameratingmean = train_p[:].mean()\n",
    "    \n",
    "    # generate a rating for each test row\n",
    "    rating = []\n",
    "    for index, rec in testdata.iterrows():\n",
    "        rating.append(gameratingmean[rec.gameID])\n",
    "\n",
    "    return rating\n",
    "    "
   ]
  },
  {
   "cell_type": "code",
   "execution_count": 69,
   "metadata": {},
   "outputs": [
    {
     "name": "stdout",
     "output_type": "stream",
     "text": [
      "k-fold train/test set #1: RMSE = 1.385\n",
      "k-fold train/test set #2: RMSE = 1.383\n",
      "k-fold train/test set #3: RMSE = 1.379\n",
      "k-fold train/test set #4: RMSE = 1.383\n",
      "k-fold train/test set #5: RMSE = 1.381\n",
      "k-fold train/test set #6: RMSE = 1.384\n",
      "k-fold train/test set #7: RMSE = 1.382\n",
      "k-fold train/test set #8: RMSE = 1.382\n",
      "k-fold train/test set #9: RMSE = 1.381\n",
      "k-fold train/test set #10: RMSE = 1.385\n",
      "\n",
      "mean RMSE = 1.383\n"
     ]
    }
   ],
   "source": [
    "from sklearn.model_selection import KFold\n",
    "from sklearn.metrics import mean_squared_error\n",
    "from math import sqrt\n",
    "\n",
    "# set up kfold to generate 10 test sets, with shuffled indices for selecting from userdata\n",
    "kf = KFold(n_splits=10, shuffle=True)\n",
    "\n",
    "# iterate through test sets (folds), test prediction model and print RMSE result\n",
    "i = 1\n",
    "rmse = []\n",
    "for train_index, test_index in kf.split(userdata):\n",
    "    print(\"k-fold train/test set #%d: \"%(i), end=\"\")\n",
    "    train_p, kf_testdata = get_kf_pivot_data(userdata, train_index, test_index)\n",
    "    ratings_pred = predict_ratings(train_p, kf_testdata)  \n",
    "    rmse.append(sqrt(mean_squared_error(kf_testdata.rating, ratings_pred)))\n",
    "    print(\"RMSE = %2.3f\"%(rmse[-1]))\n",
    "    # break # uncomment this to only run one fold \n",
    "    i += 1\n",
    "    \n",
    "print(\"\\nmean RMSE = %2.3f\"%(np.mean(rmse)))"
   ]
  }
 ],
 "metadata": {
  "kernelspec": {
   "display_name": "Python 3",
   "language": "python",
   "name": "python3"
  },
  "language_info": {
   "codemirror_mode": {
    "name": "ipython",
    "version": 3
   },
   "file_extension": ".py",
   "mimetype": "text/x-python",
   "name": "python",
   "nbconvert_exporter": "python",
   "pygments_lexer": "ipython3",
   "version": "3.5.4"
  }
 },
 "nbformat": 4,
 "nbformat_minor": 2
}
